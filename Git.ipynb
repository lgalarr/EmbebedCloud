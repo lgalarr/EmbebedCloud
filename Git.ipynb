{
 "cells": [
  {
   "cell_type": "code",
   "execution_count": 1,
   "id": "9478a6e1",
   "metadata": {},
   "outputs": [
    {
     "name": "stdout",
     "output_type": "stream",
     "text": [
      "Segundo commit\n"
     ]
    }
   ],
   "source": [
    "print(\"Segundo commit\")"
   ]
  },
  {
   "cell_type": "code",
   "execution_count": 3,
   "id": "90b35046",
   "metadata": {},
   "outputs": [
    {
     "name": "stdout",
     "output_type": "stream",
     "text": [
      "Tercer commit\n"
     ]
    }
   ],
   "source": [
    "print(\"Tercer commit\")"
   ]
  },
  {
   "cell_type": "code",
   "execution_count": 4,
   "id": "e6ecffd8",
   "metadata": {},
   "outputs": [
    {
     "name": "stdout",
     "output_type": "stream",
     "text": [
      "Trabajando en dev\n"
     ]
    }
   ],
   "source": [
    "print(\"Trabajando en dev\")"
   ]
  },
  {
   "cell_type": "code",
   "execution_count": 6,
   "id": "f4c6507f",
   "metadata": {},
   "outputs": [
    {
     "name": "stdout",
     "output_type": "stream",
     "text": [
      "Segundo commit en dev\n"
     ]
    }
   ],
   "source": [
    "print(\"Segundo commit en dev\")"
   ]
  }
 ],
 "metadata": {
  "kernelspec": {
   "display_name": "Python 3 (ipykernel)",
   "language": "python",
   "name": "python3"
  },
  "language_info": {
   "codemirror_mode": {
    "name": "ipython",
    "version": 3
   },
   "file_extension": ".py",
   "mimetype": "text/x-python",
   "name": "python",
   "nbconvert_exporter": "python",
   "pygments_lexer": "ipython3",
   "version": "3.8.9"
  }
 },
 "nbformat": 4,
 "nbformat_minor": 5
}
