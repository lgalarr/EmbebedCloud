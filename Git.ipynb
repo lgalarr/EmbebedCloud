{
 "cells": [
  {
   "cell_type": "code",
   "execution_count": 1,
   "id": "ca069f69",
   "metadata": {},
   "outputs": [
    {
     "name": "stdout",
     "output_type": "stream",
     "text": [
      "Segundo commit\n"
     ]
    }
   ],
   "source": [
    "print(\"Segundo commit\")"
   ]
  },
  {
   "cell_type": "code",
   "execution_count": 2,
   "id": "98824ba4",
   "metadata": {},
   "outputs": [
    {
     "name": "stdout",
     "output_type": "stream",
     "text": [
      "Tercer commit\n"
     ]
    }
   ],
   "source": [
    "print(\"Tercer commit\")"
   ]
  }
 ],
 "metadata": {
  "kernelspec": {
   "display_name": "Python 3 (ipykernel)",
   "language": "python",
   "name": "python3"
  },
  "language_info": {
   "codemirror_mode": {
    "name": "ipython",
    "version": 3
   },
   "file_extension": ".py",
   "mimetype": "text/x-python",
   "name": "python",
   "nbconvert_exporter": "python",
   "pygments_lexer": "ipython3",
   "version": "3.8.9"
  }
 },
 "nbformat": 4,
 "nbformat_minor": 5
}
